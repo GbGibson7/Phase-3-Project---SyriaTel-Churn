{
 "cells": [
  {
   "cell_type": "markdown",
   "id": "db4f6017-c391-4f04-a316-8d960b86e99f",
   "metadata": {},
   "source": [
    "# Business Understanding\n",
    "## Project Goal\n",
    "The primary objective of this project is to develop a predictive model that can identify customers at high risk of churn within SyriaTel.\n",
    "\n",
    "## Business Context\n",
    "Customer churn, the rate at which customers discontinue their service, is a critical concern for telecommunications companies like SyriaTel. High churn rates can lead to significant revenue loss and increased costs associated with acquiring new customers.\n",
    "\n",
    "## Value of Churn Prediction\n",
    "By accurately predicting which customers are likely to churn, SyriaTel can proactively implement targeted retention strategies. These strategies may include:\n",
    "\n",
    "    - Offering personalized incentives or discounts\n",
    "\n",
    "    - Improving customer service and support\n",
    "\n",
    "    - Addressing specific pain points or concerns\n",
    "\n",
    "Ultimately, effective churn prediction enables SyriaTel to improve customer satisfaction, reduce revenue loss, and optimize customer retention efforts, leading to increased profitability.\n",
    "\n",
    "## Data Overview\n",
    "The analysis will be based on a dataset containing customer information and service usage details. Key features include:\n",
    "\n",
    "    - Account information (e.g., account length)\n",
    "\n",
    "    - Service usage (e.g., call durations, data usage, charges)\n",
    "\n",
    "    - Customer demographics (e.g., state, area code)\n",
    "\n",
    "    - Plan details (e.g., international plan, voice mail plan)\n",
    "\n",
    "    - Customer service interactions (e.g., number of customer service calls)\n",
    "\n",
    "The goal is to leverage this data to identify patterns and build a model that accurately predicts which customers are most likely to churn."
   ]
  },
  {
   "cell_type": "code",
   "execution_count": 1,
   "id": "b7128200-98ca-426c-87e4-1bd40a98088e",
   "metadata": {},
   "outputs": [],
   "source": [
    "# Importing necessary Libraries and Packages\n",
    "import pandas as pd\n",
    "import numpy as np\n",
    "from sklearn.model_selection import train_test_split\n",
    "from sklearn.preprocessing import StandardScaler"
   ]
  },
  {
   "cell_type": "code",
   "execution_count": 2,
   "id": "fc18b12c-1f05-44e1-bfc1-9aa00ce03ecb",
   "metadata": {},
   "outputs": [
    {
     "data": {
      "text/html": [
       "<div>\n",
       "<style scoped>\n",
       "    .dataframe tbody tr th:only-of-type {\n",
       "        vertical-align: middle;\n",
       "    }\n",
       "\n",
       "    .dataframe tbody tr th {\n",
       "        vertical-align: top;\n",
       "    }\n",
       "\n",
       "    .dataframe thead th {\n",
       "        text-align: right;\n",
       "    }\n",
       "</style>\n",
       "<table border=\"1\" class=\"dataframe\">\n",
       "  <thead>\n",
       "    <tr style=\"text-align: right;\">\n",
       "      <th></th>\n",
       "      <th>state</th>\n",
       "      <th>account length</th>\n",
       "      <th>area code</th>\n",
       "      <th>phone number</th>\n",
       "      <th>international plan</th>\n",
       "      <th>voice mail plan</th>\n",
       "      <th>number vmail messages</th>\n",
       "      <th>total day minutes</th>\n",
       "      <th>total day calls</th>\n",
       "      <th>total day charge</th>\n",
       "      <th>...</th>\n",
       "      <th>total eve calls</th>\n",
       "      <th>total eve charge</th>\n",
       "      <th>total night minutes</th>\n",
       "      <th>total night calls</th>\n",
       "      <th>total night charge</th>\n",
       "      <th>total intl minutes</th>\n",
       "      <th>total intl calls</th>\n",
       "      <th>total intl charge</th>\n",
       "      <th>customer service calls</th>\n",
       "      <th>churn</th>\n",
       "    </tr>\n",
       "  </thead>\n",
       "  <tbody>\n",
       "    <tr>\n",
       "      <th>0</th>\n",
       "      <td>KS</td>\n",
       "      <td>128</td>\n",
       "      <td>415</td>\n",
       "      <td>382-4657</td>\n",
       "      <td>no</td>\n",
       "      <td>yes</td>\n",
       "      <td>25</td>\n",
       "      <td>265.1</td>\n",
       "      <td>110</td>\n",
       "      <td>45.07</td>\n",
       "      <td>...</td>\n",
       "      <td>99</td>\n",
       "      <td>16.78</td>\n",
       "      <td>244.7</td>\n",
       "      <td>91</td>\n",
       "      <td>11.01</td>\n",
       "      <td>10.0</td>\n",
       "      <td>3</td>\n",
       "      <td>2.70</td>\n",
       "      <td>1</td>\n",
       "      <td>False</td>\n",
       "    </tr>\n",
       "    <tr>\n",
       "      <th>1</th>\n",
       "      <td>OH</td>\n",
       "      <td>107</td>\n",
       "      <td>415</td>\n",
       "      <td>371-7191</td>\n",
       "      <td>no</td>\n",
       "      <td>yes</td>\n",
       "      <td>26</td>\n",
       "      <td>161.6</td>\n",
       "      <td>123</td>\n",
       "      <td>27.47</td>\n",
       "      <td>...</td>\n",
       "      <td>103</td>\n",
       "      <td>16.62</td>\n",
       "      <td>254.4</td>\n",
       "      <td>103</td>\n",
       "      <td>11.45</td>\n",
       "      <td>13.7</td>\n",
       "      <td>3</td>\n",
       "      <td>3.70</td>\n",
       "      <td>1</td>\n",
       "      <td>False</td>\n",
       "    </tr>\n",
       "    <tr>\n",
       "      <th>2</th>\n",
       "      <td>NJ</td>\n",
       "      <td>137</td>\n",
       "      <td>415</td>\n",
       "      <td>358-1921</td>\n",
       "      <td>no</td>\n",
       "      <td>no</td>\n",
       "      <td>0</td>\n",
       "      <td>243.4</td>\n",
       "      <td>114</td>\n",
       "      <td>41.38</td>\n",
       "      <td>...</td>\n",
       "      <td>110</td>\n",
       "      <td>10.30</td>\n",
       "      <td>162.6</td>\n",
       "      <td>104</td>\n",
       "      <td>7.32</td>\n",
       "      <td>12.2</td>\n",
       "      <td>5</td>\n",
       "      <td>3.29</td>\n",
       "      <td>0</td>\n",
       "      <td>False</td>\n",
       "    </tr>\n",
       "    <tr>\n",
       "      <th>3</th>\n",
       "      <td>OH</td>\n",
       "      <td>84</td>\n",
       "      <td>408</td>\n",
       "      <td>375-9999</td>\n",
       "      <td>yes</td>\n",
       "      <td>no</td>\n",
       "      <td>0</td>\n",
       "      <td>299.4</td>\n",
       "      <td>71</td>\n",
       "      <td>50.90</td>\n",
       "      <td>...</td>\n",
       "      <td>88</td>\n",
       "      <td>5.26</td>\n",
       "      <td>196.9</td>\n",
       "      <td>89</td>\n",
       "      <td>8.86</td>\n",
       "      <td>6.6</td>\n",
       "      <td>7</td>\n",
       "      <td>1.78</td>\n",
       "      <td>2</td>\n",
       "      <td>False</td>\n",
       "    </tr>\n",
       "    <tr>\n",
       "      <th>4</th>\n",
       "      <td>OK</td>\n",
       "      <td>75</td>\n",
       "      <td>415</td>\n",
       "      <td>330-6626</td>\n",
       "      <td>yes</td>\n",
       "      <td>no</td>\n",
       "      <td>0</td>\n",
       "      <td>166.7</td>\n",
       "      <td>113</td>\n",
       "      <td>28.34</td>\n",
       "      <td>...</td>\n",
       "      <td>122</td>\n",
       "      <td>12.61</td>\n",
       "      <td>186.9</td>\n",
       "      <td>121</td>\n",
       "      <td>8.41</td>\n",
       "      <td>10.1</td>\n",
       "      <td>3</td>\n",
       "      <td>2.73</td>\n",
       "      <td>3</td>\n",
       "      <td>False</td>\n",
       "    </tr>\n",
       "  </tbody>\n",
       "</table>\n",
       "<p>5 rows × 21 columns</p>\n",
       "</div>"
      ],
      "text/plain": [
       "  state  account length  area code phone number international plan  \\\n",
       "0    KS             128        415     382-4657                 no   \n",
       "1    OH             107        415     371-7191                 no   \n",
       "2    NJ             137        415     358-1921                 no   \n",
       "3    OH              84        408     375-9999                yes   \n",
       "4    OK              75        415     330-6626                yes   \n",
       "\n",
       "  voice mail plan  number vmail messages  total day minutes  total day calls  \\\n",
       "0             yes                     25              265.1              110   \n",
       "1             yes                     26              161.6              123   \n",
       "2              no                      0              243.4              114   \n",
       "3              no                      0              299.4               71   \n",
       "4              no                      0              166.7              113   \n",
       "\n",
       "   total day charge  ...  total eve calls  total eve charge  \\\n",
       "0             45.07  ...               99             16.78   \n",
       "1             27.47  ...              103             16.62   \n",
       "2             41.38  ...              110             10.30   \n",
       "3             50.90  ...               88              5.26   \n",
       "4             28.34  ...              122             12.61   \n",
       "\n",
       "   total night minutes  total night calls  total night charge  \\\n",
       "0                244.7                 91               11.01   \n",
       "1                254.4                103               11.45   \n",
       "2                162.6                104                7.32   \n",
       "3                196.9                 89                8.86   \n",
       "4                186.9                121                8.41   \n",
       "\n",
       "   total intl minutes  total intl calls  total intl charge  \\\n",
       "0                10.0                 3               2.70   \n",
       "1                13.7                 3               3.70   \n",
       "2                12.2                 5               3.29   \n",
       "3                 6.6                 7               1.78   \n",
       "4                10.1                 3               2.73   \n",
       "\n",
       "   customer service calls  churn  \n",
       "0                       1  False  \n",
       "1                       1  False  \n",
       "2                       0  False  \n",
       "3                       2  False  \n",
       "4                       3  False  \n",
       "\n",
       "[5 rows x 21 columns]"
      ]
     },
     "execution_count": 2,
     "metadata": {},
     "output_type": "execute_result"
    }
   ],
   "source": [
    "# Loading the data into a dataframe\n",
    "df = pd.read_csv('SyriaTelChurn.csv')\n",
    "df.head()"
   ]
  },
  {
   "cell_type": "code",
   "execution_count": 3,
   "id": "7b1ed8f5-aabf-4ec6-8b65-a91f3693c820",
   "metadata": {},
   "outputs": [
    {
     "name": "stdout",
     "output_type": "stream",
     "text": [
      "<class 'pandas.core.frame.DataFrame'>\n",
      "RangeIndex: 3333 entries, 0 to 3332\n",
      "Data columns (total 21 columns):\n",
      " #   Column                  Non-Null Count  Dtype  \n",
      "---  ------                  --------------  -----  \n",
      " 0   state                   3333 non-null   object \n",
      " 1   account length          3333 non-null   int64  \n",
      " 2   area code               3333 non-null   int64  \n",
      " 3   phone number            3333 non-null   object \n",
      " 4   international plan      3333 non-null   object \n",
      " 5   voice mail plan         3333 non-null   object \n",
      " 6   number vmail messages   3333 non-null   int64  \n",
      " 7   total day minutes       3333 non-null   float64\n",
      " 8   total day calls         3333 non-null   int64  \n",
      " 9   total day charge        3333 non-null   float64\n",
      " 10  total eve minutes       3333 non-null   float64\n",
      " 11  total eve calls         3333 non-null   int64  \n",
      " 12  total eve charge        3333 non-null   float64\n",
      " 13  total night minutes     3333 non-null   float64\n",
      " 14  total night calls       3333 non-null   int64  \n",
      " 15  total night charge      3333 non-null   float64\n",
      " 16  total intl minutes      3333 non-null   float64\n",
      " 17  total intl calls        3333 non-null   int64  \n",
      " 18  total intl charge       3333 non-null   float64\n",
      " 19  customer service calls  3333 non-null   int64  \n",
      " 20  churn                   3333 non-null   bool   \n",
      "dtypes: bool(1), float64(8), int64(8), object(4)\n",
      "memory usage: 524.2+ KB\n"
     ]
    }
   ],
   "source": [
    "df.info()"
   ]
  },
  {
   "cell_type": "markdown",
   "id": "f7574c7d-6159-4b92-9975-7e94a942d304",
   "metadata": {},
   "source": [
    "- Dataset Size: There are 3333 rows (customers) and 21 columns (features).\n",
    "- Data Types: We see the data types of each column. \n",
    "    - We have object (for strings/categorical data)\n",
    "    - Int64 (integers)\n",
    "    - Float64 (floating-point numbers)\n",
    "    - Bool for the churn target variable.\n",
    "- Missing Values: The \"Non-Null Count\" is 3333 for all columns, which is great news! \n",
    "- It means there are no missing values in this dataset simplifYING  data preparation step."
   ]
  },
  {
   "cell_type": "code",
   "execution_count": 4,
   "id": "e9f873bb-d160-418b-8651-9af8fd9187dc",
   "metadata": {},
   "outputs": [
    {
     "data": {
      "text/plain": [
       "False    2850\n",
       "True      483\n",
       "Name: churn, dtype: int64"
      ]
     },
     "execution_count": 4,
     "metadata": {},
     "output_type": "execute_result"
    }
   ],
   "source": [
    "# checking the values of churn data\n",
    "df['churn'].value_counts()"
   ]
  },
  {
   "cell_type": "markdown",
   "id": "f0dd606d-10d9-4049-a81d-b015b083607d",
   "metadata": {},
   "source": [
    "- This indicates there are have more non-churning customers than churning ones"
   ]
  },
  {
   "cell_type": "code",
   "execution_count": 5,
   "id": "18a925dc-c7aa-47c9-a4cf-6cfef52746ed",
   "metadata": {},
   "outputs": [],
   "source": [
    "# Creating a copy of the data to avoid modifying the original DataFrame\n",
    "df_processed = df.copy()"
   ]
  },
  {
   "cell_type": "code",
   "execution_count": 6,
   "id": "0f5c1ffa-e153-42ab-8319-5d89204f3ed2",
   "metadata": {},
   "outputs": [],
   "source": [
    "# Identifying Categorical columns (excluding the target variable 'churn')\n",
    "categorical_cols = ['state', 'area code', 'international plan', 'voice mail plan']"
   ]
  },
  {
   "cell_type": "code",
   "execution_count": 7,
   "id": "174230a8-3741-4d2b-b52b-5af17487fcdc",
   "metadata": {},
   "outputs": [],
   "source": [
    "# Performing one-hot encoding\n",
    "df_processed = pd.get_dummies(df_processed, columns=categorical_cols, drop_first=True)"
   ]
  },
  {
   "cell_type": "code",
   "execution_count": 8,
   "id": "dbe1aa51-5726-4fef-8ac0-76f5b37a4969",
   "metadata": {},
   "outputs": [],
   "source": [
    "# Droping the phone number column\n",
    "df_processed = df_processed.drop('phone number', axis=1)"
   ]
  },
  {
   "cell_type": "code",
   "execution_count": 9,
   "id": "17a477b1-70e1-4e78-afff-34b0eab49492",
   "metadata": {},
   "outputs": [
    {
     "name": "stdout",
     "output_type": "stream",
     "text": [
      "Shape of the processed DataFrame: (3333, 70)\n",
      "\n",
      " First 5 rows of the processed DataFrame:\n",
      "    account length  number vmail messages  total day minutes  total day calls  \\\n",
      "0             128                     25              265.1              110   \n",
      "1             107                     26              161.6              123   \n",
      "2             137                      0              243.4              114   \n",
      "3              84                      0              299.4               71   \n",
      "4              75                      0              166.7              113   \n",
      "\n",
      "   total day charge  total eve minutes  total eve calls  total eve charge  \\\n",
      "0             45.07              197.4               99             16.78   \n",
      "1             27.47              195.5              103             16.62   \n",
      "2             41.38              121.2              110             10.30   \n",
      "3             50.90               61.9               88              5.26   \n",
      "4             28.34              148.3              122             12.61   \n",
      "\n",
      "   total night minutes  total night calls  ...  state_VA  state_VT  state_WA  \\\n",
      "0                244.7                 91  ...         0         0         0   \n",
      "1                254.4                103  ...         0         0         0   \n",
      "2                162.6                104  ...         0         0         0   \n",
      "3                196.9                 89  ...         0         0         0   \n",
      "4                186.9                121  ...         0         0         0   \n",
      "\n",
      "   state_WI  state_WV  state_WY  area code_415  area code_510  \\\n",
      "0         0         0         0              1              0   \n",
      "1         0         0         0              1              0   \n",
      "2         0         0         0              1              0   \n",
      "3         0         0         0              0              0   \n",
      "4         0         0         0              1              0   \n",
      "\n",
      "   international plan_yes  voice mail plan_yes  \n",
      "0                       0                    1  \n",
      "1                       0                    1  \n",
      "2                       0                    0  \n",
      "3                       1                    0  \n",
      "4                       1                    0  \n",
      "\n",
      "[5 rows x 70 columns]\n"
     ]
    }
   ],
   "source": [
    "# Displaying the first few rows of processed data and its shape\n",
    "print(\"Shape of the processed DataFrame:\", df_processed.shape)\n",
    "print(\"\\n First 5 rows of the processed DataFrame:\\n\", df_processed.head())"
   ]
  },
  {
   "cell_type": "markdown",
   "id": "97c03658-d3e5-4339-aaba-2ba063159ad7",
   "metadata": {},
   "source": [
    "- One hot encoding has been applied and the phone number has been dropped.\n",
    "- I started with 21 columns now i have 70, the increase is due to the expansion of categorical features into multiple binary columns."
   ]
  },
  {
   "cell_type": "code",
   "execution_count": 10,
   "id": "53f6e72e-cfa7-4aaa-af8d-87ddf071a460",
   "metadata": {},
   "outputs": [
    {
     "name": "stdout",
     "output_type": "stream",
     "text": [
      "Shape of X_train: (2333, 69)\n",
      "Shape of X_test: (500, 69)\n",
      "Shape of X_holdout: (500, 69)\n",
      "Shape of y_train: (2333,)\n",
      "Shape of y_test: (500,)\n",
      "Shape of y_holdout: (500,)\n"
     ]
    }
   ],
   "source": [
    "# Splitting data into training and testing with a final hold out set with 70-30 ratios with a random_state=42\n",
    "# Separating features X and target y\n",
    "X = df_processed.drop('churn', axis=1)\n",
    "y = df_processed['churn'].astype(int) # Convert boolean to integers (0 and 1)\n",
    "\n",
    "\n",
    "# Splitting data into training and temporary set (85% train, 15% temp)\n",
    "X_train, X_temp, y_train, y_temp = train_test_split(X, y, test_size=0.3, random_state=42, stratify=y)\n",
    "\n",
    "\n",
    "# Splitting the temporary set into testing and holdout (50% test, 50% holdout of the temp of the temp set, which is ~15% of the original)\n",
    "X_test, X_holdout, y_test, y_holdout = train_test_split(X_temp, y_temp, test_size=0.5, random_state=42, stratify=y_temp)\n",
    "\n",
    "\n",
    "# Printing the shapes of the resulting sets to verify the splits\n",
    "print(\"Shape of X_train:\", X_train.shape)\n",
    "print(\"Shape of X_test:\", X_test.shape)\n",
    "print(\"Shape of X_holdout:\", X_holdout.shape)\n",
    "print(\"Shape of y_train:\", y_train.shape)\n",
    "print(\"Shape of y_test:\", y_test.shape)\n",
    "print(\"Shape of y_holdout:\", y_holdout.shape)"
   ]
  },
  {
   "cell_type": "markdown",
   "id": "54f5d9ea-b8f2-405a-b029-4f35e1835090",
   "metadata": {},
   "source": [
    "The shapes of my training, testing, and holdout sets look correct based on our intended split. I now have:\n",
    "- Training set: 2333 samples (approximately 70% of the original data) to train our models.\n",
    "- Testing set: 500 samples (approximately 15% of the original data) to evaluate and compare our models during the development process.\n",
    "- Holdout set: 500 samples (approximately 15% of the original data) to provide a final, unbiased evaluation of our best model."
   ]
  },
  {
   "cell_type": "markdown",
   "id": "658bf496-4fad-4fa6-a629-25f399df3bb6",
   "metadata": {},
   "source": [
    "# Feature Scaling"
   ]
  },
  {
   "cell_type": "code",
   "execution_count": 11,
   "id": "e9d35bd4-7b00-4c0d-8142-4c9fc17ea269",
   "metadata": {},
   "outputs": [
    {
     "name": "stdout",
     "output_type": "stream",
     "text": [
      "First 5 rows of scaled X_train:\n",
      "       account length  number vmail messages  total day minutes  \\\n",
      "606         0.710730              -0.601437          -0.745204   \n",
      "2468        1.285368               2.388494          -0.609853   \n",
      "1844       -0.588453               1.440467          -0.811951   \n",
      "3187       -1.063155               2.242644           0.597172   \n",
      "3083        1.835023              -0.601437           1.034742   \n",
      "\n",
      "      total day calls  total day charge  total eve minutes  total eve calls  \\\n",
      "606          0.934611         -0.744719           1.720633         0.235871   \n",
      "2468         1.383797         -0.609478           1.648204        -0.212733   \n",
      "1844         0.834792         -0.812340           0.843651         0.086337   \n",
      "3187        -3.008242          0.596788           1.428958        -1.209630   \n",
      "3083         0.385606          1.035231          -1.156963         2.129976   \n",
      "\n",
      "      total eve charge  total night minutes  total night calls  ...  state_VA  \\\n",
      "606           1.720493            -1.426410          -0.156352  ...         0   \n",
      "2468          1.649100             0.263000          -1.027532  ...         0   \n",
      "1844          0.843041             0.140608          -1.335008  ...         0   \n",
      "3187          1.428009             0.200801           1.995977  ...         0   \n",
      "3083         -1.155986             2.331624           1.586009  ...         0   \n",
      "\n",
      "      state_VT  state_WA  state_WI  state_WV  state_WY  area code_415  \\\n",
      "606          0         0         0         0         0              1   \n",
      "2468         0         0         0         1         0              0   \n",
      "1844         0         0         0         0         0              0   \n",
      "3187         0         0         0         1         0              0   \n",
      "3083         0         0         0         0         0              0   \n",
      "\n",
      "      area code_510  international plan_yes  voice mail plan_yes  \n",
      "606               0                       0                    0  \n",
      "2468              1                       1                    1  \n",
      "1844              1                       0                    1  \n",
      "3187              0                       0                    1  \n",
      "3083              1                       0                    0  \n",
      "\n",
      "[5 rows x 69 columns]\n"
     ]
    }
   ],
   "source": [
    "# Identifying numerical columns\n",
    "numerical_cols = X_train.select_dtypes(include=['int64', 'float64']).columns\n",
    "\n",
    "# Initialize StandardScaler\n",
    "scaler = StandardScaler()\n",
    "\n",
    "# Fit the scaler on the training data\n",
    "scaler.fit(X_train[numerical_cols])\n",
    "\n",
    "# Transforming the training, testing and holdout sets\n",
    "X_train[numerical_cols] = scaler.transform(X_train[numerical_cols])\n",
    "X_test[numerical_cols] = scaler.transform(X_test[numerical_cols])\n",
    "X_holdout[numerical_cols] = scaler.transform(X_holdout[numerical_cols])\n",
    "\n",
    "# Display the first few rows of the scaled training data\n",
    "print(\"First 5 rows of scaled X_train:\\n\", X_train.head())"
   ]
  },
  {
   "cell_type": "markdown",
   "id": "425bc203-5625-4de0-b87e-7df32b83744d",
   "metadata": {},
   "source": [
    "- The output shows that the numerical features in X_train DataFrame have been scaled with values of both positive and negative."
   ]
  },
  {
   "cell_type": "markdown",
   "id": "9b3162dc-559b-4fd0-8015-9be7da0dd13b",
   "metadata": {},
   "source": [
    "# Building Classification Models"
   ]
  },
  {
   "cell_type": "markdown",
   "id": "26374397-85a4-4831-b40c-dda440e39859",
   "metadata": {},
   "source": [
    "## Logistic Regression"
   ]
  },
  {
   "cell_type": "code",
   "execution_count": 12,
   "id": "251b7fc3-334e-4d72-a83d-02567643d885",
   "metadata": {},
   "outputs": [
    {
     "name": "stdout",
     "output_type": "stream",
     "text": [
      "Baseline Logistic Regression Model Evaluation:\n",
      "Accuracy: 0.868\n",
      "\n",
      "Classification_report:\n",
      "               precision    recall  f1-score   support\n",
      "\n",
      "           0       0.88      0.99      0.93       427\n",
      "           1       0.68      0.18      0.28        73\n",
      "\n",
      "    accuracy                           0.87       500\n",
      "   macro avg       0.78      0.58      0.60       500\n",
      "weighted avg       0.85      0.87      0.83       500\n",
      "\n",
      "\n",
      "Confusion Matrix:\n",
      " [[421   6]\n",
      " [ 60  13]]\n"
     ]
    }
   ],
   "source": [
    "from sklearn.linear_model import LogisticRegression\n",
    "from sklearn.metrics import classification_report, accuracy_score, confusion_matrix\n",
    "\n",
    "# Initialize the Logistic Regression model\n",
    "# I will use small value of C(inverse of regularization strenght) for simplicity\n",
    "logreg_model = LogisticRegression(random_state=42, solver='liblinear', C=0.1)\n",
    "\n",
    "# Train the model on the training data\n",
    "logreg_model.fit(X_train, y_train)\n",
    "\n",
    "# Make prediction on testing data\n",
    "y_pred_logreg = logreg_model.predict(X_test)\n",
    "\n",
    "\n",
    "# Evaluating the model\n",
    "print(\"Baseline Logistic Regression Model Evaluation:\")\n",
    "print(\"Accuracy:\", accuracy_score(y_test, y_pred_logreg))\n",
    "print(\"\\nClassification_report:\\n\", classification_report(y_test, y_pred_logreg))\n",
    "print(\"\\nConfusion Matrix:\\n\", confusion_matrix(y_test, y_pred_logreg))"
   ]
  },
  {
   "cell_type": "markdown",
   "id": "8ac44bdb-b012-440f-ab47-e62f591ee3f1",
   "metadata": {},
   "source": [
    "### Analysis of this baseline model\n",
    "The model has a high overall accuracy (86.8%) which shows that the model is much better at predicting non-churn than churn.\n",
    "- The recall for the churn class (class 1) is very low (0.18). This means the model is missing a large proportion of the customers who actually churn. In a business context, this is a problem because we want to identify as many potential churners as possible so we can try to retain them.\n",
    "- The precision for the churn class (0.68) is better than the recall, indicating that when the model predicts churn, it's correct a decent amount of the time. However, because the recall is so low, it's not identifying many of the actual churners."
   ]
  },
  {
   "cell_type": "markdown",
   "id": "3bd4d7b7-0c18-4470-aa20-9e366bb4b6a6",
   "metadata": {},
   "source": [
    "# Next Steps"
   ]
  },
  {
   "cell_type": "markdown",
   "id": "6127165d-bc72-4fdc-9310-5e724faa8448",
   "metadata": {},
   "source": [
    "- Focus on the Churn Class: Since my primary goal is to predict churn, i need to improve the model's ability to correctly identify churning customers (increase recall for class 1).\n",
    "\n",
    "- Hyperparameter Tuning: I used a default or simple setting for my Logistic Regression model. Tuning the hyperparameters (like the regularization strength C) might improve performance.\n",
    "- Try a Different Model: Decision Tree can be interpretable and might perform differently."
   ]
  },
  {
   "cell_type": "code",
   "execution_count": 13,
   "id": "af4d3184-9dba-4707-8332-9835aa9b6d64",
   "metadata": {},
   "outputs": [
    {
     "name": "stdout",
     "output_type": "stream",
     "text": [
      "Best hyperparameters for Logistic Regression: {'C': 100}\n",
      "Best recall score on training data: 0.2573748902546093\n",
      "\n",
      "Evaluation of the best Logistic Regression Model on the test set:\n",
      "Accuracy: 0.868\n",
      "\n",
      "Classification Report:               precision    recall  f1-score   support\n",
      "\n",
      "           0       0.89      0.97      0.93       427\n",
      "           1       0.61      0.27      0.38        73\n",
      "\n",
      "    accuracy                           0.87       500\n",
      "   macro avg       0.75      0.62      0.65       500\n",
      "weighted avg       0.85      0.87      0.85       500\n",
      "\n",
      "\n",
      "Confusion Matrix: [[414  13]\n",
      " [ 53  20]]\n"
     ]
    }
   ],
   "source": [
    "from sklearn.model_selection import GridSearchCV\n",
    "from sklearn.metrics import make_scorer, recall_score\n",
    "\n",
    "# Defining the parameter grid to search\n",
    "param_grid = {'C': [0.001, 0.01, 0.1, 1, 10, 100]}\n",
    "\n",
    "# Create a scorer for recall of the positive class (churn-class 1)\n",
    "recall_scorer = make_scorer(recall_score, pos_label=1)\n",
    "\n",
    "# Initialize the logistic Regression Model\n",
    "logreg = LogisticRegression(random_state=42, solver='liblinear', penalty='l2')\n",
    "\n",
    "# Perform GridSearchCV \n",
    "grid_search = GridSearchCV(logreg, param_grid, scoring=recall_scorer, cv=5, n_jobs=-1)\n",
    "grid_search.fit(X_train, y_train)\n",
    "\n",
    "# Print the best parameters and the best recall score\n",
    "print(\"Best hyperparameters for Logistic Regression:\", grid_search.best_params_)\n",
    "print(\"Best recall score on training data:\", grid_search.best_score_)\n",
    "\n",
    "# Get the best model on the test set\n",
    "best_logreg = grid_search.best_estimator_\n",
    "\n",
    "# Evaluate the best model on the test set\n",
    "y_pred_best_logreg = best_logreg.predict(X_test)\n",
    "\n",
    "print(\"\\nEvaluation of the best Logistic Regression Model on the test set:\")\n",
    "print(\"Accuracy:\", accuracy_score(y_test, y_pred_best_logreg))\n",
    "print(\"\\nClassification Report:\", classification_report(y_test, y_pred_best_logreg))\n",
    "print(\"\\nConfusion Matrix:\", confusion_matrix(y_test, y_pred_best_logreg))\n"
   ]
  },
  {
   "cell_type": "markdown",
   "id": "198da939-7608-4467-aad5-33dedf292c5a",
   "metadata": {},
   "source": [
    "### Analysis of Tuned Logistic Regression"
   ]
  },
  {
   "cell_type": "markdown",
   "id": "3b492d65-f03f-4240-9e94-82c51f8b5b03",
   "metadata": {},
   "source": [
    "- By tuning the C hyperparameter with the goal of maximizing recall for the churn class, the model has achieved a better ability to identify actual churners. The recall for class 1 increased from 0.18 to 0.27, meaning the model now correctly identifying a larger proportion of customers who will churn.\n",
    "\n",
    "However, this improvement in recall has come at a slight cost:\n",
    "\n",
    "    - The precision for the churn class has decreased slightly (from 0.68 to 0.61), meaning that when the model predicts churn, it is now slightly less likely to be correct.\n",
    "    - The number of false positives (predicting churn when the customer doesn't) has increased.\n",
    "- The overall accuracy remains the same, which again highlights that accuracy isn't the best metric to focus on in imbalanced datasets."
   ]
  },
  {
   "cell_type": "markdown",
   "id": "a5630e4f-1605-493c-bc51-148c54c2ebf4",
   "metadata": {},
   "source": [
    "# Decision Tree"
   ]
  },
  {
   "cell_type": "code",
   "execution_count": 14,
   "id": "aaa91e6d-366b-4885-ab9d-accf9ceb28b5",
   "metadata": {},
   "outputs": [
    {
     "name": "stdout",
     "output_type": "stream",
     "text": [
      "\n",
      "Decision Tree Model Evaluation:\n",
      "Accuracy: 0.92\n",
      "\n",
      "Classification Report:               precision    recall  f1-score   support\n",
      "\n",
      "           0       0.94      0.96      0.95       427\n",
      "           1       0.76      0.66      0.71        73\n",
      "\n",
      "    accuracy                           0.92       500\n",
      "   macro avg       0.85      0.81      0.83       500\n",
      "weighted avg       0.92      0.92      0.92       500\n",
      "\n",
      "\n",
      "Confusion Matrix: [[412  15]\n",
      " [ 25  48]]\n"
     ]
    }
   ],
   "source": [
    "from sklearn.tree import DecisionTreeClassifier\n",
    "\n",
    "# Initialize the Decision Tree Classifier\n",
    "tree_model = DecisionTreeClassifier(random_state=42)\n",
    "\n",
    "#Train the model on the training data\n",
    "tree_model.fit(X_train, y_train)\n",
    "\n",
    "#Make predictions on the testing data\n",
    "\n",
    "y_pred_tree = tree_model.predict(X_test)\n",
    "\n",
    "# Evaluate the model\n",
    "print(\"\\nDecision Tree Model Evaluation:\")\n",
    "print(\"Accuracy:\", accuracy_score(y_test, y_pred_tree))\n",
    "print(\"\\nClassification Report:\", classification_report(y_test, y_pred_tree))\n",
    "print(\"\\nConfusion Matrix:\", confusion_matrix(y_test, y_pred_tree))"
   ]
  },
  {
   "cell_type": "markdown",
   "id": "01ecc9a0-0c0f-4458-a58e-3d4e74b2de19",
   "metadata": {},
   "source": [
    "### Analysis of Decision Tree model"
   ]
  },
  {
   "cell_type": "markdown",
   "id": "4ec0801f-c4f6-42ac-bce1-1d772a9c24ea",
   "metadata": {},
   "source": [
    "- The Decision Tree model appears to be significantly outperforming both the baseline and the tuned Logistic Regression models, especially in its ability to predict customer churn (higher recall, precision, and F1-score for class 1). It has a much better balance between correctly identifying churners and minimizing false negatives (missing actual churners).\n",
    "\n",
    "- While the Decision Tree has a slightly higher number of false positives compared to the baseline Logistic Regression, the substantial improvement in correctly identifying churners (fewer false negatives) is likely more valuable for SyriaTel. Missing fewer potential churners allows for more opportunities to intervene and retain them."
   ]
  },
  {
   "cell_type": "markdown",
   "id": "69725b7e-f6aa-4290-97f6-e1fed1ae44ac",
   "metadata": {},
   "source": [
    "### Next Steps"
   ]
  },
  {
   "cell_type": "markdown",
   "id": "f247f4c6-64e9-4b81-80dc-e0e0196592d4",
   "metadata": {},
   "source": [
    "- Hyperparameter Tuning for the Decision Tree\n",
    "- Feature Importance\n",
    "- Model Interpretation for the Presentation for non -technical"
   ]
  },
  {
   "cell_type": "markdown",
   "id": "f9b1a95c-3472-41bb-a01e-f2fd34601041",
   "metadata": {},
   "source": [
    "### Hyperparameter tuning for the Decision Tree"
   ]
  },
  {
   "cell_type": "code",
   "execution_count": 15,
   "id": "9545b7d0-9e5d-4eeb-986b-d1fb6ba6d247",
   "metadata": {},
   "outputs": [
    {
     "name": "stdout",
     "output_type": "stream",
     "text": [
      "Best hyperparameters for Decision Tree: {'criterion': 'entropy', 'max_depth': None, 'min_samples_leaf': 1, 'min_samples_split': 10}\n",
      "Best recall score on training data: 0.7459174714661984\n",
      "\n",
      "Evaluation of the best Decision Tree model on the test set:\n",
      "Accuracy: 0.928\n",
      "\n",
      "Classification Report:               precision    recall  f1-score   support\n",
      "\n",
      "           0       0.95      0.97      0.96       427\n",
      "           1       0.79      0.68      0.74        73\n",
      "\n",
      "    accuracy                           0.93       500\n",
      "   macro avg       0.87      0.83      0.85       500\n",
      "weighted avg       0.92      0.93      0.93       500\n",
      "\n",
      "\n",
      "Confusion Matrix:\n",
      " [[414  13]\n",
      " [ 23  50]]\n"
     ]
    }
   ],
   "source": [
    "# Define the parameter grid for decision Tree\n",
    "param_grid_tree = {\n",
    "    'criterion': ['gini', 'entropy'],\n",
    "    'max_depth': [None, 5, 10, 15, 20],\n",
    "    'min_samples_split': [2, 5, 10],\n",
    "    'min_samples_leaf': [1, 3, 5]\n",
    "}\n",
    "\n",
    "# Creating a scorer for recall of the positive class (churn - class 1)\n",
    "recall_scorer = make_scorer(recall_score, pos_label=1)\n",
    "\n",
    "# Initialize the Decision Tree Classifier\n",
    "tree = DecisionTreeClassifier(random_state=42)\n",
    "\n",
    "# Perform GridSearchCV\n",
    "grid_search_tree = GridSearchCV(tree, param_grid_tree, scoring=recall_scorer, cv=5, n_jobs=-1)\n",
    "grid_search_tree.fit(X_train, y_train)\n",
    "\n",
    "# print the best hyperparameters and the best recall score\n",
    "print(\"Best hyperparameters for Decision Tree:\", grid_search_tree.best_params_)\n",
    "print(\"Best recall score on training data:\", grid_search_tree.best_score_)\n",
    "\n",
    "# Get the best model for GridSearchCV\n",
    "best_tree = grid_search_tree.best_estimator_\n",
    "\n",
    "# Evaluate the best model on the test set\n",
    "y_pred_best_tree = best_tree.predict(X_test)\n",
    "\n",
    "print(\"\\nEvaluation of the best Decision Tree model on the test set:\")\n",
    "print(\"Accuracy:\", accuracy_score(y_test, y_pred_best_tree))\n",
    "print(\"\\nClassification Report:\", classification_report(y_test, y_pred_best_tree))\n",
    "print(\"\\nConfusion Matrix:\\n\", confusion_matrix(y_test, y_pred_best_tree))"
   ]
  },
  {
   "cell_type": "markdown",
   "id": "4b9eb2ff-bb34-4029-b092-477dd42395f2",
   "metadata": {},
   "source": [
    "### Analysis of Tuned Decision Tree"
   ]
  },
  {
   "cell_type": "markdown",
   "id": "6963b79c-4e84-4423-9c6c-fcc251ef8b42",
   "metadata": {},
   "source": [
    "- The hyperparameter tuning has indeed led to a slightly better performing Decision Tree model on the test set. We see improvements in accuracy, precision, recall, and F1-score for the churn class. The model is now even better at correctly identifying customers who will churn while also reducing the number of false positives and false negatives.\n",
    "- Given these results, the tuned Decision Tree appears to be the best model so far."
   ]
  },
  {
   "cell_type": "markdown",
   "id": "56f8939c-175d-4fe3-999f-2629d2159bda",
   "metadata": {},
   "source": [
    "# Visualizing"
   ]
  },
  {
   "cell_type": "code",
   "execution_count": 16,
   "id": "641269e6-0f3e-4298-9559-596ff0464e8a",
   "metadata": {},
   "outputs": [
    {
     "data": {
      "image/png": "[encoded data removed]",
      "text/plain": [
       "<Figure size 1000x600 with 1 Axes>"
      ]
     },
     "metadata": {},
     "output_type": "display_data"
    },
    {
     "name": "stdout",
     "output_type": "stream",
     "text": [
      "\n",
      "Sorted Feature Importances:\n",
      "                   Feature  Importance\n",
      "4         total day charge    0.191460\n",
      "14  customer service calls    0.117724\n",
      "67  international plan_yes    0.100450\n",
      "11      total intl minutes    0.076616\n",
      "7         total eve charge    0.076298\n",
      "..                     ...         ...\n",
      "35                state_ME    0.000000\n",
      "36                state_MI    0.000000\n",
      "37                state_MN    0.000000\n",
      "38                state_MO    0.000000\n",
      "34                state_MD    0.000000\n",
      "\n",
      "[69 rows x 2 columns]\n"
     ]
    }
   ],
   "source": [
    "import matplotlib.pyplot as plt\n",
    "import seaborn as sns\n",
    "\n",
    "# Get feature importance from best Decision Tree Model\n",
    "feature_importances = best_tree.feature_importances_\n",
    "\n",
    "# Get the names of the features\n",
    "feature_names = X_train.columns\n",
    "\n",
    "# Create a DataFrame to store feature importance\n",
    "importance_df = pd.DataFrame({'Feature': feature_names, 'Importance': feature_importances})\n",
    "\n",
    "importance_df_sorted = importance_df.sort_values(by='Importance', ascending=False)\n",
    "\n",
    "# Plotting the top N important in descending order\n",
    "top_n = 10\n",
    "plt.figure(figsize=(10, 6))\n",
    "sns.barplot(x='Importance', y='Feature', data=importance_df_sorted.head(top_n))\n",
    "plt.title(f\"{top_n} Feature Importances (Decion Tree)\")\n",
    "plt.xlabel(\"Importance\")\n",
    "plt.ylabel(\"Feature\")\n",
    "plt.tight_layout()\n",
    "plt.show()\n",
    "\n",
    "\n",
    "# Print the sorted features\n",
    "print(\"\\nSorted Feature Importances:\")\n",
    "print(importance_df_sorted)"
   ]
  },
  {
   "cell_type": "markdown",
   "id": "64447e77-2ec8-4a52-80e1-fe8e4d6088e5",
   "metadata": {},
   "source": [
    "## Interpretetion "
   ]
  },
  {
   "cell_type": "markdown",
   "id": "b5334f4a-a4d3-4908-b2c1-9e940118b716",
   "metadata": {},
   "source": [
    "- Analysis shows that the total amount a customer is charged during the day is the strongest predictor of whether they will leave. Customers with higher day charges are more likely to churn.\n",
    "- The number of times a customer contacts customer service is also a critical indicator. Customers who call support more frequently are at a higher risk of churning. This suggests that addressing customer service issues promptly and effectively could be key to retention.\n",
    "- Customers who have signed up for an international plan are also more likely to churn. SyriaTel might want to investigate the reasons behind this – perhaps related to pricing, service quality for international calls, or the needs of these customers.\n",
    "- The amount of time customers spend on international calls and their evening call charges also play a role in predicting churn."
   ]
  },
  {
   "cell_type": "markdown",
   "id": "38e39b12-344e-4dc9-be16-191321fbd1b2",
   "metadata": {},
   "source": [
    "### Areas to focus on"
   ]
  },
  {
   "cell_type": "markdown",
   "id": "be6d7e2a-fd75-4dd4-a0a6-9a120ab27726",
   "metadata": {},
   "source": [
    "- Analyze pricing structures, especially for day usage and international plans.\n",
    "- Improve their customer service processes to reduce the number of calls and increase customer satisfaction.\n",
    "- Consider targeted retention efforts for customers with international plans or those with high day/evening charges."
   ]
  },
  {
   "cell_type": "markdown",
   "id": "cb75a1a3-1f3d-4339-b0fc-5e576066cbe0",
   "metadata": {},
   "source": [
    "### Evaluating the tuned Decision Tree on the holdout set"
   ]
  },
  {
   "cell_type": "code",
   "execution_count": 17,
   "id": "424718ef-8101-48a7-a77e-0a7fe916b032",
   "metadata": {},
   "outputs": [
    {
     "name": "stdout",
     "output_type": "stream",
     "text": [
      "\n",
      "Evaluation of the best Decision Tree model on the holdout set:\n",
      "Accuracy: 0.924\n",
      "\n",
      "Classification Report:\n",
      "               precision    recall  f1-score   support\n",
      "\n",
      "           0       0.95      0.96      0.96       428\n",
      "           1       0.74      0.72      0.73        72\n",
      "\n",
      "    accuracy                           0.92       500\n",
      "   macro avg       0.85      0.84      0.84       500\n",
      "weighted avg       0.92      0.92      0.92       500\n",
      "\n",
      "\n",
      "Confusion Matrix:\n",
      " [[410  18]\n",
      " [ 20  52]]\n"
     ]
    }
   ],
   "source": [
    "y_pred_holdout_tree = best_tree.predict(X_holdout)\n",
    "\n",
    "print(\"\\nEvaluation of the best Decision Tree model on the holdout set:\")\n",
    "print(\"Accuracy:\", accuracy_score(y_holdout, y_pred_holdout_tree))\n",
    "print(\"\\nClassification Report:\\n\", classification_report(y_holdout, y_pred_holdout_tree))\n",
    "print(\"\\nConfusion Matrix:\\n\", confusion_matrix(y_holdout, y_pred_holdout_tree))"
   ]
  },
  {
   "cell_type": "markdown",
   "id": "c75b9e2e-2709-4767-9701-491d33cbc98e",
   "metadata": {},
   "source": [
    "# Final Analysis"
   ]
  },
  {
   "cell_type": "markdown",
   "id": "bc470546-09d0-4482-a6d3-1b86460fb880",
   "metadata": {},
   "source": [
    "The performance of our tuned Decision Tree model on the holdout set is consistent with its performance on the test set. This gives confidence that the model generalizes well to unseen data and is not overfitting.\n",
    "- It achieves a high overall accuracy (92.4%).\n",
    "- More importantly for our business goal, it has a good recall for the churn class (0.72), meaning it correctly identifies a significant portion of the customers who will actually churn.\n",
    "- The precision for the churn class (0.74) is also respectable, indicating that when the model predicts churn, it is correct a good amount of the time."
   ]
  }
 ],
 "metadata": {
  "kernelspec": {
   "display_name": "Python 3 (ipykernel)",
   "language": "python",
   "name": "python3"
  },
  "language_info": {
   "codemirror_mode": {
    "name": "ipython",
    "version": 3
   },
   "file_extension": ".py",
   "mimetype": "text/x-python",
   "name": "python",
   "nbconvert_exporter": "python",
   "pygments_lexer": "ipython3",
   "version": "3.9.13"
  }
 },
 "nbformat": 4,
 "nbformat_minor": 5
}
